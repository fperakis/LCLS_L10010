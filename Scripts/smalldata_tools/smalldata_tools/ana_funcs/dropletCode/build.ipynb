{
 "cells": [
  {
   "cell_type": "code",
   "execution_count": 12,
   "metadata": {},
   "outputs": [
    {
     "name": "stdout",
     "output_type": "stream",
     "text": [
      "running build_ext\n",
      "copying build/lib.linux-x86_64-cpython-39/droplet.cpython-39-x86_64-linux-gnu.so -> \n"
     ]
    }
   ],
   "source": [
    "%run setup.py build_ext --inplace"
   ]
  },
  {
   "cell_type": "code",
   "execution_count": 13,
   "metadata": {},
   "outputs": [],
   "source": [
    "from droplet import dropletanal, dropletfind"
   ]
  },
  {
   "cell_type": "code",
   "execution_count": 9,
   "metadata": {},
   "outputs": [
    {
     "name": "stdout",
     "output_type": "stream",
     "text": [
      "\u001b[0m\u001b[01;34mbuild\u001b[0m/       droplet.c                                 \u001b[01;32mdroplet.pyx\u001b[0m*\r\n",
      "build.ipynb  \u001b[01;32mdroplet.cpython-37m-x86_64-linux-gnu.so\u001b[0m*  \u001b[01;32m_hunt.c\u001b[0m*\r\n",
      "\u001b[01;32m_droplet.c\u001b[0m*  \u001b[01;32mdroplet.cpython-39-x86_64-linux-gnu.so\u001b[0m*   setup.py\r\n"
     ]
    }
   ],
   "source": [
    "ls"
   ]
  },
  {
   "cell_type": "code",
   "execution_count": 15,
   "metadata": {},
   "outputs": [
    {
     "name": "stdout",
     "output_type": "stream",
     "text": [
      "total 948K\r\n",
      "drwxrwxr-x 1 yanwen qb    0 Dec 21 09:05 \u001b[0m\u001b[01;34m.\u001b[0m/\r\n",
      "drwxr-xr-x 1 yanwen qb    0 Dec 21 08:53 \u001b[01;34m..\u001b[0m/\r\n",
      "drwxr-xr-x 1 yanwen qb    0 Dec 21 08:54 \u001b[01;34mbuild\u001b[0m/\r\n",
      "-rw-r--r-- 1 yanwen qb  994 Dec 21 09:02 build.ipynb\r\n",
      "-rwxrwxr-x 1 yanwen qb 8.5K Dec 21 08:53 \u001b[01;32m_droplet.c\u001b[0m*\r\n",
      "-rw-r--r-- 1 yanwen qb 317K Dec 21 08:53 droplet.c\r\n",
      "-rwxrwxr-x 1 yanwen qb 401K Dec 21 08:53 \u001b[01;32mdroplet.cpython-37m-x86_64-linux-gnu.so\u001b[0m*\r\n",
      "-rwxr-xr-x 1 yanwen qb  95K Dec 21 08:54 \u001b[01;32mdroplet.cpython-39-x86_64-linux-gnu.so\u001b[0m*\r\n",
      "-rwxrwxr-x 1 yanwen qb 7.3K Dec 21 08:53 \u001b[01;32mdroplet.pyx\u001b[0m*\r\n",
      "-rwxrwxr-x 1 yanwen qb 1006 Dec 21 08:53 \u001b[01;32m_hunt.c\u001b[0m*\r\n",
      "drwxr-xr-x 1 yanwen qb    0 Dec 21 08:53 \u001b[01;34m.ipynb_checkpoints\u001b[0m/\r\n",
      "-rwxr-xr-x 1 yanwen qb  95K Dec 21 08:54 \u001b[01;32m.nfs71613766e5d0002300000001\u001b[0m*\r\n",
      "-rw-r--r-- 1 yanwen qb  271 Dec 21 08:53 setup.py\r\n"
     ]
    }
   ],
   "source": [
    "ls -lah"
   ]
  },
  {
   "cell_type": "code",
   "execution_count": 11,
   "metadata": {},
   "outputs": [],
   "source": [
    "rm droplet.cpython-39-x86_64-linux-gnu.so*"
   ]
  },
  {
   "cell_type": "code",
   "execution_count": 41,
   "metadata": {},
   "outputs": [],
   "source": [
    "cp /cds/home/y/yanwen/tools/dropletCode_py3_debug/droplet.cpython-39-x86_64-linux-gnu.so /reg/d/psdm/xpp/xpplw3920/results/smalldata_tools/smalldata_tools/ana_funcs/dropletCode/."
   ]
  },
  {
   "cell_type": "code",
   "execution_count": null,
   "metadata": {},
   "outputs": [],
   "source": []
  }
 ],
 "metadata": {
  "kernelspec": {
   "display_name": "LCLS-I py3",
   "language": "python",
   "name": "ana1-current-py3"
  },
  "language_info": {
   "codemirror_mode": {
    "name": "ipython",
    "version": 3
   },
   "file_extension": ".py",
   "mimetype": "text/x-python",
   "name": "python",
   "nbconvert_exporter": "python",
   "pygments_lexer": "ipython3",
   "version": "3.9.15"
  }
 },
 "nbformat": 4,
 "nbformat_minor": 2
}
