{
 "cells": [
  {
   "cell_type": "code",
   "execution_count": 1,
   "id": "61ce29c0-bc3e-47aa-96f2-2dde161dd424",
   "metadata": {},
   "outputs": [],
   "source": [
    "import numpy as np\n",
    "import h5py as h5\n",
    "import sys\n",
    "import time"
   ]
  },
  {
   "cell_type": "code",
   "execution_count": 2,
   "id": "32da387b-a2e6-4449-895b-6ea839744184",
   "metadata": {},
   "outputs": [],
   "source": [
    "# Parse Arguement\n",
    "run_num = 29 #int(sys.argv[1])\n",
    "\n",
    "\n",
    "# Define parameters -- update!\n",
    "exp_name = 'xppl1001021'\n",
    "output_path = '/sdf/data/lcls/ds/xpp/{}/results/output/'.format(exp_name)\n",
    "smalldata_path = '/sdf/data/lcls/ds/xpp/{}/hdf5/smalldata/'.format(exp_name)\n",
    "\n",
    "# Define functions\n",
    "def reconstruct_img(photons_i, photons_j, shape):\n",
    "    nx, ny = shape\n",
    "    phot_img, _,_ = np.histogram2d(photons_j+0.5, photons_i+0.5, bins=[np.arange(nx+1),np.arange(ny+1)])                         \n",
    "    return phot_img\n"
   ]
  },
  {
   "cell_type": "code",
   "execution_count": 4,
   "id": "13021a2e-564a-4c97-897a-39db794f27a2",
   "metadata": {},
   "outputs": [
    {
     "name": "stdout",
     "output_type": "stream",
     "text": [
      "<KeysViewHDF5 ['Sums', 'UserDataCfg', 'adc', 'ai', 'damage', 'diode2', 'diodeU', 'ebeam', 'epics', 'epicsAll', 'epix_alc1', 'epix_alc1_env', 'epix_alc2', 'epix_alc2_env', 'epix_alc3', 'epix_alc3_env', 'epix_alc4', 'epix_alc4_env', 'epix_alc5', 'epix_alc5_env', 'event_time', 'evr', 'feeBld', 'fiducials', 'gas_detector', 'ipm2', 'ipm_hx2', 'lightStatus', 'lombpm', 'lomdiode', 'scan']>\n",
      "1\n",
      "2\n",
      "3\n",
      "4\n"
     ]
    }
   ],
   "source": [
    "N_epix = 4\n",
    "#user_mask = np.load('/sdf/data/lcls/ds/xpp/xpplx9221/results/kyounes/mask/standard_mask.npy')\n",
    "#user_mask = user_mask.astype(bool)\n",
    "\n",
    "\n",
    "# Load the result from droplet analysis\n",
    "with h5.File(smalldata_path + '{}_Run{:04d}.h5'.format(exp_name, run_num),'r') as f:\n",
    "    print(f.keys())\n",
    "    photons_i = []\n",
    "    photons_j = []\n",
    "    \n",
    "    total_mask = []#this is the general mask we use for photonization\n",
    "    \n",
    "    for epix in range(N_epix):\n",
    "        print(epix+1)\n",
    "        photons_j.append( f['epix_alc{}/ragged_droplet_photon_j'.format(epix+1)][:])\n",
    "        photons_i.append( f['epix_alc{}/ragged_droplet_photon_i'.format(epix+1)][:])\n",
    "        mask =      f['UserDataCfg/epix_alc{}/mask'.format(epix+1)][()]\n",
    "        # Load all the masks\n",
    "        mask = mask.astype(bool)\n",
    "        bad_pixel_mask = np.load('/sdf/data/lcls/ds/xpp/xpplx9221/results/haoyuan/mask_epix{}_combined_hy_v1.npy'.format(epix+1))\n",
    "        total_mask.append((mask  * bad_pixel_mask).astype(bool))\n",
    "\n",
    "    i_sample = f['lombpm']['channels'][:,1]\n",
    "    cc = np.array(f['ai/ch03'])\n",
    "    vcc = np.array(f['ai/ch02'])\n",
    "    \n",
    "\n",
    "\n",
    "# Process each pattern in this run\n",
    "shape = mask.shape\n",
    "nframe = int(len(photons_i[0]))\n",
    "#imgs_reconstruct = np.zeros(np.r_[nframe, shape])\n",
    "\n",
    "pixel_num = float(np.sum(total_mask))\n",
    "\n",
    "# Create holders for the result\n",
    "kbar = np.zeros(nframe)\n",
    "p0 = np.zeros(nframe)\n",
    "p1 = np.zeros(nframe)\n",
    "p2 = np.zeros(nframe)\n",
    "p3 = np.zeros(nframe)\n",
    "\n",
    "# Get the total photon count and probability per shot for all runs and patterns\n",
    "tic = time.time()\n",
    "for i in range(nframe):\n",
    "    kbar[i] = 0\n",
    "    p0[i] = 0\n",
    "    p1[i] = 0\n",
    "    p2[i] = 0\n",
    "    p3[i] = 0\n",
    "\n",
    "    \n",
    "    for epix in range (N_epix):\n",
    "        imgs_reconstruct = reconstruct_img(photons_i[epix][i], photons_j[epix][i], shape)\n",
    "        kbar[i] += np.sum(imgs_reconstruct[total_mask[epix]])/ pixel_num\n",
    "        p, p_bin_edge = np.histogram(imgs_reconstruct[total_mask[epix]].flatten(),bins=[-0.5, 0.5, 1.5, 2.5, 3.5])\n",
    "    \n",
    "        p0[i] += p[0] / pixel_num\n",
    "        p1[i] += p[1] / pixel_num\n",
    "        p2[i] += p[2] / pixel_num\n",
    "        p3[i] += p[3] / pixel_num\n",
    "\n",
    "    # if i // 1000 == 0:\n",
    "    #     toc = time.time()\n",
    "    #     print(toc - tic)\n",
    "        \n",
    "# Get the analytical contrast expression\n",
    "\n",
    "#beta_2ph = (2 * p2 - kbar * p1) / (kbar * (p1 - 2 * p2))\n",
    "\n",
    "\n",
    "\n",
    "\n",
    "# beta = (2 * p2 - kbar * p1) / (kbar * (p1 - 2 * p2))\n",
    "# #np.savez(output_path + 'contrast_run_{}_delay_{}_pulse_{}'.format(run_num, delay, pulse),## this would be ideal but not implemented\n",
    "# np.savez(output_path + 'test_contrast_run_{}'.format(run_num),\n",
    "#          beta=beta,\n",
    "#          p1=p1,\n",
    "#          p2=p2,\n",
    "#          p0=p0,\n",
    "#          p3=p3,\n",
    "#          kbar=kbar,\n",
    "#          cc=cc,\n",
    "#          vcc=vcc,\n",
    "#          i_sample=i_sample)"
   ]
  },
  {
   "cell_type": "code",
   "execution_count": 5,
   "id": "35fdb9c7-5577-4769-a532-b5e75e9287e6",
   "metadata": {},
   "outputs": [
    {
     "data": {
      "text/plain": [
       "(704, 768)"
      ]
     },
     "execution_count": 5,
     "metadata": {},
     "output_type": "execute_result"
    }
   ],
   "source": [
    "np.shape(imgs_reconstruct)"
   ]
  },
  {
   "cell_type": "markdown",
   "id": "bdf1f0b8-cc82-4f0a-8202-dbf2e3dfc207",
   "metadata": {},
   "source": [
    "# see output results"
   ]
  },
  {
   "cell_type": "code",
   "execution_count": 9,
   "id": "16422f45-e179-43eb-8e10-1d5d507f48be",
   "metadata": {},
   "outputs": [],
   "source": [
    "output_path = '/sdf/data/lcls/ds/xpp/xppl1001021/results/shared/output/'"
   ]
  },
  {
   "cell_type": "code",
   "execution_count": 8,
   "id": "5018dcd6-14e5-4fcf-8c63-2009926d64f8",
   "metadata": {},
   "outputs": [
    {
     "name": "stdout",
     "output_type": "stream",
     "text": [
      "contrast_run_46.npz\n"
     ]
    }
   ],
   "source": [
    "!ls /sdf/data/lcls/ds/xpp/xppl1001021/results/shared/output/"
   ]
  },
  {
   "cell_type": "code",
   "execution_count": 10,
   "id": "fffb466d-793f-4be5-827f-d8e27c14e041",
   "metadata": {},
   "outputs": [
    {
     "data": {
      "text/plain": [
       "['beta', 'p1', 'p2', 'p0', 'p3', 'kbar', 'cc', 'vcc', 'i_sample']"
      ]
     },
     "execution_count": 10,
     "metadata": {},
     "output_type": "execute_result"
    }
   ],
   "source": [
    "f = np.load(output_path + 'contrast_run_46.npz')\n",
    "f.files"
   ]
  },
  {
   "cell_type": "code",
   "execution_count": 12,
   "id": "b2846afb-cdb9-467d-aad6-cc39d79491e2",
   "metadata": {},
   "outputs": [
    {
     "name": "stdout",
     "output_type": "stream",
     "text": [
      "beta (4, 17515)\n",
      "p1 (4, 17515)\n",
      "p2 (4, 17515)\n",
      "p0 (4, 17515)\n",
      "p3 (4, 17515)\n",
      "kbar (4, 17515)\n",
      "cc (17515,)\n",
      "vcc (17515,)\n",
      "i_sample (17515,)\n"
     ]
    }
   ],
   "source": [
    "data = {}\n",
    "for key in f.files:\n",
    "    data[key] = f[key]\n",
    "    print(key, np.shape(data[key]))"
   ]
  },
  {
   "cell_type": "code",
   "execution_count": 14,
   "id": "7d3ab137-d0e2-42a7-98bd-36eed2d203ff",
   "metadata": {},
   "outputs": [],
   "source": [
    "from matplotlib import pyplot as plt"
   ]
  },
  {
   "cell_type": "code",
   "execution_count": 19,
   "id": "595e56fd-a7b0-4422-95f8-35178b085015",
   "metadata": {},
   "outputs": [
    {
     "data": {
      "image/png": "[encoded data removed]",
      "text/plain": [
       "<Figure size 640x480 with 1 Axes>"
      ]
     },
     "metadata": {},
     "output_type": "display_data"
    }
   ],
   "source": [
    "plt.figure()\n",
    "nepix = 4\n",
    "col = plt.cm.copper(np.linspace(0,1,nepix))\n",
    "for i in range(nepix):\n",
    "    plt.plot(data['p1'][i,:], data['kbar'][i,:], c=col[i], ls='', marker='o', mec='gray', label=f'epix{i+1}')\n",
    "    plt.plot(data['p1'][i,:], data['kbar'][i,:], c=col[i], ls='', marker='o', mec='gray', label=f'epix{i+1}')\n",
    "# plt.xlim(0,10)"
   ]
  },
  {
   "cell_type": "code",
   "execution_count": null,
   "id": "133d2b3e-8841-48db-9566-d11d2e79fa30",
   "metadata": {},
   "outputs": [],
   "source": []
  }
 ],
 "metadata": {
  "kernelspec": {
   "display_name": "Python 3 (ipykernel)",
   "language": "python",
   "name": "python3"
  },
  "language_info": {
   "codemirror_mode": {
    "name": "ipython",
    "version": 3
   },
   "file_extension": ".py",
   "mimetype": "text/x-python",
   "name": "python",
   "nbconvert_exporter": "python",
   "pygments_lexer": "ipython3",
   "version": "3.9.15"
  }
 },
 "nbformat": 4,
 "nbformat_minor": 5
}
