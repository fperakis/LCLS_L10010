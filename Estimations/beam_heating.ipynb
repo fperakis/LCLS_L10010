{
 "cells": [
  {
   "cell_type": "markdown",
   "metadata": {},
   "source": [
    "# Temperature rise due to x-rays "
   ]
  },
  {
   "cell_type": "markdown",
   "metadata": {},
   "source": [
    "Useful websites:\n",
    "\n",
    "https://en.wikipedia.org/wiki/Water_(data_page)\n",
    "\n",
    "http://henke.lbl.gov/optical_constants/"
   ]
  },
  {
   "cell_type": "code",
   "execution_count": 1,
   "metadata": {},
   "outputs": [],
   "source": [
    "import numpy as np\n",
    "import matplotlib.pyplot as plt"
   ]
  },
  {
   "cell_type": "code",
   "execution_count": 30,
   "metadata": {},
   "outputs": [],
   "source": [
    "E  = 9.5            # photon energy (keV)\n",
    "s  = 4e-6           # focus (FWHM)\n",
    "t  = 50*1e-6        # thickness (m)\n",
    "Q0 = 1e-6           # incident energy after Si(111) (J)\n",
    "eV = 1.6e-19        # 1 eV in Joules\n",
    "RT = 295            # temperature in the hutch"
   ]
  },
  {
   "cell_type": "code",
   "execution_count": 3,
   "metadata": {},
   "outputs": [],
   "source": [
    "def temperature_rise(s, t, T, Cp, rho, Q0, eV):\n",
    "    N = Q0/(eV*E*1e3)     # number of photons per pulse\n",
    "\n",
    "    V = np.pi*(s/2.)**2*t # volume\n",
    "\n",
    "    m = rho*V\n",
    "    Q = Q0*(1-T) \n",
    "    DT = Q/m/Cp           #temperature rise\n",
    "\n",
    "    #print('Incident Energy: %2f e9 photons/pulse' %(float(N)/1e9))\n",
    "    #print('Temperature rise: %.2f K ' %DT)\n",
    "    #print('Energy density: %.2f MJ/kg'% float(Q/m/1e6))\n",
    "    \n",
    "    return DT"
   ]
  },
  {
   "cell_type": "markdown",
   "metadata": {},
   "source": [
    "### For pure water "
   ]
  },
  {
   "cell_type": "code",
   "execution_count": 4,
   "metadata": {},
   "outputs": [],
   "source": [
    "T  = 0.97068        # transmission of water \n",
    "Cp = 4181.4         # heat capacity at 25 °C         J/(kg*K)\n",
    "rho= 0.9970479*1e3  # density  at 25 °C              kg/m3\n",
    "\n",
    "dT_w = temperature_rise(s, t, T, Cp, rho, Q0, eV)"
   ]
  },
  {
   "cell_type": "markdown",
   "metadata": {},
   "source": [
    "### For pure DMSO "
   ]
  },
  {
   "cell_type": "code",
   "execution_count": 5,
   "metadata": {},
   "outputs": [],
   "source": [
    "T_dmso  = 0.87113        # transmission of DMSO \n",
    "Cp_dmso = 3054           # heat capacity at 25 °C         J/(kg*K)\n",
    "rho_dmso= 1.1*1e3        # density  at 25 °C              kg/m3\n",
    "\n",
    "dT_dmso = temperature_rise(s, t, T_dmso, Cp_dmso, rho_dmso, Q0, eV)"
   ]
  },
  {
   "cell_type": "markdown",
   "metadata": {
    "collapsed": true
   },
   "source": [
    "### Plot"
   ]
  },
  {
   "cell_type": "code",
   "execution_count": 49,
   "metadata": {},
   "outputs": [],
   "source": [
    "Q0_ = np.linspace(0.,2,10)*1e-6\n",
    "\n",
    "dT = temperature_rise(s, t, T, Cp, rho, Q0_, eV)\n",
    "dT_dmso = temperature_rise(s, t, T_dmso, Cp_dmso, rho_dmso, Q0_, eV)"
   ]
  },
  {
   "cell_type": "code",
   "execution_count": 55,
   "metadata": {},
   "outputs": [
    {
     "data": {
      "image/png": "[encoded data removed]",
      "text/plain": [
       "<Figure size 350x300 with 1 Axes>"
      ]
     },
     "metadata": {},
     "output_type": "display_data"
    }
   ],
   "source": [
    "plt.figure(figsize=[3.5,3])\n",
    "plt.plot(Q0_*1e6,dT,label=r'water',c='blue')\n",
    "plt.plot(Q0_*1e6,dT_dmso,label=r'DMSO',c='red')\n",
    "\n",
    "plt.xlabel(r'Pulse energy at the sample ($\\mu$J)')\n",
    "plt.ylabel(r'$\\Delta$T (K)')\n",
    "#plt.axhline(y=373,c='blue',ls='--')\n",
    "#plt.axhline(y=189+273,c='red',ls='--')\n",
    "#plt.grid()\n",
    "plt.legend(frameon=True,loc='upper left', prop={'size': 10})\n",
    "plt.title(r'E = %.1f keV, s = %i um'%(E, s*1e6))\n",
    "plt.tight_layout()\n",
    "plt.savefig('/Users/fivos/Desktop/fig_T.png',dpi=300)\n",
    "\n",
    "plt.show()\n"
   ]
  },
  {
   "cell_type": "code",
   "execution_count": null,
   "metadata": {},
   "outputs": [],
   "source": []
  }
 ],
 "metadata": {
  "kernelspec": {
   "display_name": "Python 3 (ipykernel)",
   "language": "python",
   "name": "python3"
  },
  "language_info": {
   "codemirror_mode": {
    "name": "ipython",
    "version": 3
   },
   "file_extension": ".py",
   "mimetype": "text/x-python",
   "name": "python",
   "nbconvert_exporter": "python",
   "pygments_lexer": "ipython3",
   "version": "3.9.15"
  }
 },
 "nbformat": 4,
 "nbformat_minor": 1
}
